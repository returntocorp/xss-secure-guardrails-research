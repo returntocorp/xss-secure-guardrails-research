{
 "cells": [
  {
   "cell_type": "code",
   "execution_count": null,
   "id": "tribal-helping",
   "metadata": {},
   "outputs": [],
   "source": [
    "import json\n",
    "import sqlite3\n",
    "import pandas as pd\n",
    "import requests\n",
    "import matplotlib.pyplot as plt\n"
   ]
  },
  {
   "cell_type": "code",
   "execution_count": null,
   "id": "smart-blair",
   "metadata": {},
   "outputs": [],
   "source": [
    "#DB_FILE = \"../data/xss_research.db\"\n",
    "DB_FILE = \"../data/xss_research_v2.db\"\n",
    "conn = sqlite3.connect(DB_FILE)"
   ]
  },
  {
   "cell_type": "code",
   "execution_count": null,
   "id": "gorgeous-missile",
   "metadata": {},
   "outputs": [],
   "source": [
    "FRAMEWORKS_OF_INTEREST = ['clientside_javascript', 'django', 'express', 'flask', 'go', 'java_and_jsp', 'javascript', 'rails', 'react']"
   ]
  },
  {
   "cell_type": "code",
   "execution_count": null,
   "id": "floppy-butterfly",
   "metadata": {},
   "outputs": [],
   "source": [
    "c = conn.cursor()\n",
    "it = c.execute(\"SELECT repo_url, fix_commit, previous_commit, triage_status, reviewer_notes, taxonomy FROM finding\")\n",
    "triage_data_df = pd.DataFrame(list(it), columns=[\"repo_url\", \"fix_commit\", \"previous_commit\", \"triage_status\", \"reviewer_notes\", \"taxonomy\"])\n",
    "\n",
    "# rename 'false_positive' to 'false_negative' due to naming error :3\n",
    "triage_data_df['triage_status'] = triage_data_df['triage_status'].replace('false_positive','false_negative')"
   ]
  },
  {
   "cell_type": "code",
   "execution_count": null,
   "id": "greatest-halifax",
   "metadata": {},
   "outputs": [],
   "source": [
    "import csv\n",
    "with open(\"../data/framework-labels/xss-labeled-frameworks-1611967876.46879.csv\", 'r') as fin:\n",
    "    framework_df = pd.read_csv(fin)\n",
    "with open(\"../data/framework-labels/new-xss-frameworks-done.csv\", 'r') as fin:\n",
    "    framework_df2 = pd.read_csv(fin)\n",
    "\n",
    "framework_df = framework_df.append(framework_df2)"
   ]
  },
  {
   "cell_type": "code",
   "execution_count": null,
   "id": "recognized-fellow",
   "metadata": {},
   "outputs": [],
   "source": [
    "framework_df = framework_df[['repo_url', 'framework']]\n",
    "framework_df = framework_df.drop_duplicates('repo_url')"
   ]
  },
  {
   "cell_type": "code",
   "execution_count": null,
   "id": "impressed-operations",
   "metadata": {},
   "outputs": [],
   "source": [
    "m = framework_df.merge(triage_data_df, on=\"repo_url\").drop_duplicates(['fix_commit'])"
   ]
  },
  {
   "cell_type": "code",
   "execution_count": null,
   "id": "transsexual-heaven",
   "metadata": {},
   "outputs": [],
   "source": [
    "# Update rows based on round 2 manual analysis\n",
    "# Only do this if round 2\n",
    "if \"v2\" in DB_FILE:\n",
    "    with open(\"../data/framework-labels/xss-framework-label-round2-updates.csv\", 'r') as fin:\n",
    "        update_df = pd.read_csv(fin)\n",
    "    for row in update_df.itertuples(index=False):\n",
    "        m.loc[(m.repo_url == row[0]) & (m.fix_commit == row[1]), 'framework'] = row[2]\n",
    "        m.loc[(m.repo_url == row[0]) & (m.fix_commit == row[1]), 'triage_status'] = row[3]"
   ]
  },
  {
   "cell_type": "code",
   "execution_count": null,
   "id": "first-battle",
   "metadata": {},
   "outputs": [],
   "source": [
    "# drop anything that is 'unknown' or slated for deletion\n",
    "m = m[(m.triage_status == \"true_positive\") | (m.triage_status == \"false_negative\")]"
   ]
  },
  {
   "cell_type": "code",
   "execution_count": null,
   "id": "considered-canada",
   "metadata": {},
   "outputs": [],
   "source": [
    "# filter to frameworks of interest\n",
    "m = m.loc[m['framework'].isin(FRAMEWORKS_OF_INTEREST)]\n",
    "g = m.groupby('triage_status').size()\n",
    "g"
   ]
  },
  {
   "cell_type": "code",
   "execution_count": null,
   "id": "exposed-partition",
   "metadata": {},
   "outputs": [],
   "source": [
    "print(\"commits: \", len(set(m.fix_commit)))"
   ]
  },
  {
   "cell_type": "code",
   "execution_count": null,
   "id": "lesbian-disclosure",
   "metadata": {},
   "outputs": [],
   "source": [
    "print(\"repos: \", len(set(m.repo_url)))"
   ]
  },
  {
   "cell_type": "code",
   "execution_count": null,
   "id": "lesser-paste",
   "metadata": {},
   "outputs": [],
   "source": [
    "print(\"detection rate: \", g['true_positive'] / len(set(m.fix_commit)))"
   ]
  },
  {
   "cell_type": "code",
   "execution_count": null,
   "id": "executed-cycling",
   "metadata": {},
   "outputs": [],
   "source": [
    "plt.rcParams['figure.figsize'] = [8, 6]\n",
    "plt.rcParams['figure.dpi'] = 100\n",
    "p = m[['framework', 'triage_status', 'fix_commit', 'taxonomy']].groupby(['framework', 'triage_status']).agg({'fix_commit': 'count'})\n",
    "p"
   ]
  },
  {
   "cell_type": "code",
   "execution_count": null,
   "id": "20455caa",
   "metadata": {},
   "outputs": [],
   "source": [
    "p.unstack('triage_status')"
   ]
  },
  {
   "cell_type": "code",
   "execution_count": null,
   "id": "db24c2c7",
   "metadata": {},
   "outputs": [],
   "source": [
    "x = p.unstack('triage_status').reindex(['go', 'rails', 'react', 'javascript', 'django', 'java_and_jsp', 'flask', 'express', 'clientside_javascript']).plot(kind='bar', stacked=True, colormap=\"RdYlGn\", rot=75)\n",
    "matplotlib.pyplot.legend([\"False Negative\", \"True Positive\"])\n",
    "x"
   ]
  },
  {
   "cell_type": "code",
   "execution_count": null,
   "id": "regulation-election",
   "metadata": {},
   "outputs": [],
   "source": [
    "q = m.groupby(['framework']).agg({'fix_commit': 'count'})"
   ]
  },
  {
   "cell_type": "code",
   "execution_count": null,
   "id": "mysterious-military",
   "metadata": {},
   "outputs": [],
   "source": [
    "r = p.div(q, level='framework')\n",
    "z = r.reset_index().merge(q, on=['framework']).set_index(['framework', 'triage_status'])"
   ]
  },
  {
   "cell_type": "code",
   "execution_count": null,
   "id": "chemical-honor",
   "metadata": {
    "scrolled": true
   },
   "outputs": [],
   "source": [
    "y = z[(z.index.get_level_values(1) == \"true_positive\") & (z.index.get_level_values(0).isin(FRAMEWORKS_OF_INTEREST))].sort_values(by=\"fix_commit_x\", ascending=False)\n",
    "y.columns = ['%', 'N']\n",
    "y"
   ]
  },
  {
   "cell_type": "code",
   "execution_count": null,
   "id": "palestinian-sunglasses",
   "metadata": {},
   "outputs": [],
   "source": []
  }
 ],
 "metadata": {
  "kernelspec": {
   "display_name": "Python 3 (ipykernel)",
   "language": "python",
   "name": "python3"
  },
  "language_info": {
   "codemirror_mode": {
    "name": "ipython",
    "version": 3
   },
   "file_extension": ".py",
   "mimetype": "text/x-python",
   "name": "python",
   "nbconvert_exporter": "python",
   "pygments_lexer": "ipython3",
   "version": "3.8.8"
  }
 },
 "nbformat": 4,
 "nbformat_minor": 5
}
